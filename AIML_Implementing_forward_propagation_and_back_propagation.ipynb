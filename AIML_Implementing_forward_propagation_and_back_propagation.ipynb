{
  "nbformat": 4,
  "nbformat_minor": 0,
  "metadata": {
    "colab": {
      "provenance": [],
      "authorship_tag": "ABX9TyPV3xkoFZmlMQ7SIGBcVluv",
      "include_colab_link": true
    },
    "kernelspec": {
      "name": "python3",
      "display_name": "Python 3"
    },
    "language_info": {
      "name": "python"
    }
  },
  "cells": [
    {
      "cell_type": "markdown",
      "metadata": {
        "id": "view-in-github",
        "colab_type": "text"
      },
      "source": [
        "<a href=\"https://colab.research.google.com/github/geethikaprasad13/AIML_Projects_and_Lab/blob/main/AIML_Implementing_forward_propagation_and_back_propagation.ipynb\" target=\"_parent\"><img src=\"https://colab.research.google.com/assets/colab-badge.svg\" alt=\"Open In Colab\"/></a>"
      ]
    },
    {
      "cell_type": "code",
      "execution_count": 4,
      "metadata": {
        "id": "fIOi-mVBxQq7"
      },
      "outputs": [],
      "source": [
        "import torch\n",
        "import torch.nn as nn"
      ]
    },
    {
      "cell_type": "code",
      "source": [
        "from sklearn import datasets\n",
        "from sklearn import preprocessing\n",
        "iris = datasets.load_iris()\n",
        "x = torch.tensor(preprocessing.normalize(iris.data[:, :2]), dtype=torch.float)\n",
        "y = torch.tensor(iris.target.reshape(-1, 1), dtype=torch.float)"
      ],
      "metadata": {
        "id": "F9pjOaPZxZh1"
      },
      "execution_count": 15,
      "outputs": []
    },
    {
      "cell_type": "code",
      "source": [
        "torch.manual_seed(2)"
      ],
      "metadata": {
        "colab": {
          "base_uri": "https://localhost:8080/"
        },
        "id": "V7QEv-DexbQF",
        "outputId": "3900ef89-b593-4453-94cc-e847d175efdd"
      },
      "execution_count": 16,
      "outputs": [
        {
          "output_type": "execute_result",
          "data": {
            "text/plain": [
              "<torch._C.Generator at 0x7d9ee5cc8330>"
            ]
          },
          "metadata": {},
          "execution_count": 16
        }
      ]
    },
    {
      "cell_type": "code",
      "source": [
        "print(x.size())\n",
        "print(y.size())"
      ],
      "metadata": {
        "colab": {
          "base_uri": "https://localhost:8080/"
        },
        "id": "3_mYnDF-xcYN",
        "outputId": "ce739a20-4edb-47e0-a343-9a627c69d139"
      },
      "execution_count": 17,
      "outputs": [
        {
          "output_type": "stream",
          "name": "stdout",
          "text": [
            "torch.Size([150, 2])\n",
            "torch.Size([150, 1])\n"
          ]
        }
      ]
    },
    {
      "cell_type": "code",
      "source": [
        "x = x[:y[y < 2].size()[0]]\n",
        "y = y[:y[y < 2].size()[0]]"
      ],
      "metadata": {
        "id": "C5Y4SChrxm-I"
      },
      "execution_count": 19,
      "outputs": []
    },
    {
      "cell_type": "code",
      "source": [
        "print(x.size())\n",
        "print(y.size())"
      ],
      "metadata": {
        "colab": {
          "base_uri": "https://localhost:8080/"
        },
        "id": "lxV_IFlLxoP1",
        "outputId": "a461d9f5-5016-434a-8e45-97dbed4d4b64"
      },
      "execution_count": 20,
      "outputs": [
        {
          "output_type": "stream",
          "name": "stdout",
          "text": [
            "torch.Size([100, 2])\n",
            "torch.Size([100, 1])\n"
          ]
        }
      ]
    },
    {
      "cell_type": "code",
      "source": [
        "print(torch.randn(2, 32).size())"
      ],
      "metadata": {
        "colab": {
          "base_uri": "https://localhost:8080/"
        },
        "id": "ZITob1BDxpMv",
        "outputId": "bda8a694-aedd-4414-feac-39bd52ca731c"
      },
      "execution_count": 21,
      "outputs": [
        {
          "output_type": "stream",
          "name": "stdout",
          "text": [
            "torch.Size([2, 32])\n"
          ]
        }
      ]
    },
    {
      "cell_type": "code",
      "source": [
        "class FNN(nn.Module):\n",
        "    def __init__(self, ):\n",
        "        super().__init__()\n",
        "\n",
        "        self.input_dim = 2\n",
        "        self.hidden_dim = 32\n",
        "        self.output_dim = 1\n",
        "\n",
        "        self.learning_rate = 0.001\n",
        "\n",
        "        self.w1 = torch.randn(self.input_dim, self.hidden_dim)\n",
        "\n",
        "        self.w2 = torch.randn(self.hidden_dim, self.output_dim)\n",
        "\n",
        "    def sigmoid(self, s):\n",
        "        return 1 / (1 + torch.exp(-s))\n",
        "\n",
        "    def sigmoid_first_order_derivative(self, s):\n",
        "        return s * (1 - s)\n",
        "\n",
        "    def forward(self, x):\n",
        "        self.y1 = torch.matmul(x, self.w1)\n",
        "\n",
        "        self.y2 = self.sigmoid(self.y1)\n",
        "\n",
        "        self.y3 = torch.matmul(self.y2, self.w2)\n",
        "\n",
        "        y4 = self.sigmoid(self.y3)\n",
        "        return y4\n",
        "\n",
        "    def backward(self, x, l, y4):\n",
        "        self.dC_dy4 = y4 - l\n",
        "\n",
        "        self.dy4_dy3 = self.sigmoid_first_order_derivative(y4)\n",
        "        self.dy3_dw2 = self.y2\n",
        "\n",
        "        self.y4_delta = self.dC_dy4 * self.dy4_dy3\n",
        "\n",
        "        self.dC_dw2 = torch.matmul(torch.t(self.dy3_dw2), self.y4_delta)\n",
        "\n",
        "        self.dy3_dy2 = self.w2\n",
        "        self.dy2_dy1 = self.sigmoid_first_order_derivative(self.y2)\n",
        "\n",
        "        self.y2_delta = torch.matmul(self.y4_delta, torch.t(self.dy3_dy2)) * self.dy2_dy1\n",
        "\n",
        "        self.dC_dw1 = torch.matmul(torch.t(x), self.y2_delta)\n",
        "\n",
        "        self.w1 -= self.learning_rate * self.dC_dw1\n",
        "        self.w2 -= self.learning_rate * self.dC_dw2\n",
        "\n",
        "    def train(self, x, l):\n",
        "        y4 = self.forward(x)\n",
        "\n",
        "        self.backward(x, l, y4)"
      ],
      "metadata": {
        "id": "s4I4zGhCxqPY"
      },
      "execution_count": 22,
      "outputs": []
    },
    {
      "cell_type": "code",
      "source": [
        "model = FNN()\n",
        "\n",
        "loss_lst = []\n",
        "\n",
        "num_epochs = 101\n",
        "\n",
        "for epoch in range(num_epochs):\n",
        "    y_hat = model(x)\n",
        "\n",
        "    cross_entropy_loss = -(y * torch.log(y_hat) + (1 - y) * torch.log(1 - y_hat))\n",
        "\n",
        "    mean_cross_entropy_loss = torch.mean(cross_entropy_loss).detach().item()\n",
        "\n",
        "    if epoch % 20 == 0:\n",
        "        print('Epoch {} | Loss: {}'.format(epoch, mean_cross_entropy_loss))\n",
        "    loss_lst.append(mean_cross_entropy_loss)\n",
        "\n",
        "    model.train(x, y)"
      ],
      "metadata": {
        "colab": {
          "base_uri": "https://localhost:8080/"
        },
        "id": "OuCHhO0Hxrre",
        "outputId": "73d148cf-30d4-446f-8aec-5e0432882dcb"
      },
      "execution_count": 23,
      "outputs": [
        {
          "output_type": "stream",
          "name": "stdout",
          "text": [
            "Epoch 0 | Loss: 0.9228230118751526\n",
            "Epoch 20 | Loss: 0.6966761946678162\n",
            "Epoch 40 | Loss: 0.6714915633201599\n",
            "Epoch 60 | Loss: 0.6686137318611145\n",
            "Epoch 80 | Loss: 0.666690468788147\n",
            "Epoch 100 | Loss: 0.6648104190826416\n"
          ]
        }
      ]
    },
    {
      "cell_type": "code",
      "source": [
        "import pandas as pd\n",
        "%matplotlib inline\n",
        "pd.Series(loss_lst).plot()"
      ],
      "metadata": {
        "colab": {
          "base_uri": "https://localhost:8080/",
          "height": 447
        },
        "id": "DmJ0SM8zxs0v",
        "outputId": "abe98a18-e18e-48eb-b506-e26e33917079"
      },
      "execution_count": 24,
      "outputs": [
        {
          "output_type": "execute_result",
          "data": {
            "text/plain": [
              "<Axes: >"
            ]
          },
          "metadata": {},
          "execution_count": 24
        },
        {
          "output_type": "display_data",
          "data": {
            "text/plain": [
              "<Figure size 640x480 with 1 Axes>"
            ],
            "image/png": "[encoded data removed]"
          },
          "metadata": {}
        }
      ]
    },
    {
      "cell_type": "code",
      "source": [],
      "metadata": {
        "id": "A8BXlnA_xuXs"
      },
      "execution_count": null,
      "outputs": []
    }
  ]
}